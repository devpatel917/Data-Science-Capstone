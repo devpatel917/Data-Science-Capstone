{
    "cells": [
        {
            "metadata": {
                "collapsed": true
            },
            "cell_type": "markdown",
            "source": "Capstone Project"
        },
        {
            "metadata": {},
            "cell_type": "code",
            "source": "import pandas as pd\nimport numpy as np",
            "execution_count": 6,
            "outputs": []
        },
        {
            "metadata": {},
            "cell_type": "code",
            "source": "print (\"Hello Capstone Project Course!\")",
            "execution_count": 8,
            "outputs": [
                {
                    "output_type": "stream",
                    "text": "Hello Capstone Project Course!\n",
                    "name": "stdout"
                }
            ]
        },
        {
            "metadata": {},
            "cell_type": "markdown",
            "source": "Introduction/Business Problem: \nA visitor is looking to open up a new restaurant in Toronto. The visitor knows nothing about where to open up this new restaurant. The question that will be answered is where is the best place to open up this restaurant. The audience is the visitor and he would want to open up his restaurant where it gives him the most opportunities to get a profit and for his business to do well. "
        },
        {
            "metadata": {},
            "cell_type": "markdown",
            "source": "Data Section: Using the different venues across Toronto, clusters will be made to see where the best location to open up a business is. The restaurant will be located near schools, work areas, and areas of large groups of people, so that they would want to come to the restaurant since it's close for them. The data that will used is the number of venues (schools, work areas, large groups of people) and the distance from its centroid (the assumed restaurant location). To do this, only Foursquare location data will be used to find the different venues and see their apparent distances from the restaurant location. Minimizing the distance and maximizing the number of venues will the goal. \n"
        },
        {
            "metadata": {},
            "cell_type": "code",
            "source": "",
            "execution_count": null,
            "outputs": []
        }
    ],
    "metadata": {
        "kernelspec": {
            "name": "python3",
            "display_name": "Python 3.6",
            "language": "python"
        },
        "language_info": {
            "name": "python",
            "version": "3.6.9",
            "mimetype": "text/x-python",
            "codemirror_mode": {
                "name": "ipython",
                "version": 3
            },
            "pygments_lexer": "ipython3",
            "nbconvert_exporter": "python",
            "file_extension": ".py"
        }
    },
    "nbformat": 4,
    "nbformat_minor": 1
}